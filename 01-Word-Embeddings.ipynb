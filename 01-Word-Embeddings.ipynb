{
 "cells": [
  {
   "cell_type": "code",
   "execution_count": 1,
   "metadata": {},
   "outputs": [
    {
     "name": "stderr",
     "output_type": "stream",
     "text": [
      "Using TensorFlow backend.\n"
     ]
    }
   ],
   "source": [
    "import matplotlib.pyplot as plt\n",
    "%matplotlib inline\n",
    "plt.style.use('ggplot')\n",
    "from datascience import *\n",
    "import numpy as np\n",
    "from scipy.spatial.distance import cosine\n",
    "import gensim\n",
    "import nltk\n",
    "from string import punctuation"
   ]
  },
  {
   "cell_type": "markdown",
   "metadata": {},
   "source": [
    "# Word Embedding\n",
    "\n",
    "This lesson is designed to explore features of word embeddings described by Ben Schmidt in his blog post <a href=\"http://bookworm.benschmidt.org/posts/2015-10-30-rejecting-the-gender-binary.html\">\"Rejecting the Gender Binary\"</a>.\n",
    "\n",
    "The primary corpus we use consists of the <a href=\"http://txtlab.org/?p=601\">150 English-language novels</a> made available by the .txtLab at McGill. We also look at a <a href=\"http://ryanheuser.org/word-vectors-1/\">Word2Vec model trained on the ECCO-TCP corpus</a> of 2,350 eighteenth-century literary texts made available by Ryan Heuser. (I have shortened the number of terms in the model by half in order to conserve memory.)\n",
    "\n",
    "For background on Word2Vec's mechanics, I suggest this <a href=\"https://www.tensorflow.org/versions/r0.8/tutorials/word2vec/index.html\">brief tutorial</a> by Google, especially the sections \"Motivation,\" \"Skip-Gram Model,\" and \"Visualizing.\"\n",
    "\n",
    "We'll read in Andrew Piper's corpus we used in our Topic Modeling notebook:"
   ]
  },
  {
   "cell_type": "code",
   "execution_count": 2,
   "metadata": {},
   "outputs": [],
   "source": [
    "metadata_tb = Table.read_table('../09-Topic-Modeling/data/txtlab_Novel150_English.csv')\n",
    "\n",
    "fiction_path = '../09-Topic-Modeling/data/txtlab_Novel150_English/'\n",
    "\n",
    "novel_list = []\n",
    "\n",
    "# Iterate through filenames in metadata table\n",
    "for filename in metadata_tb['filename']:\n",
    "    \n",
    "    # Read in novel text as single string, make lowercase\n",
    "    with open(fiction_path + filename, 'r') as file_in:\n",
    "        novel = file_in.read()\n",
    "    \n",
    "    # Add novel text as single string to master list\n",
    "    novel_list.append(novel)"
   ]
  },
  {
   "cell_type": "markdown",
   "metadata": {},
   "source": [
    "---\n",
    "\n",
    "# Pre-Processing\n",
    "\n",
    "Word2Vec learns about the relationships among words by observing them in context. We'll need to tokenize the words in our corpus while retaining sentence boundaries. Since novels were imported as single strings, we'll first use <i>sent_tokenize</i> to divide them into sentences, and second, we'll split each sentence into its own list of words.\n",
    "\n",
    "We'll use `nltk`'s sentence tokenizer:"
   ]
  },
  {
   "cell_type": "code",
   "execution_count": 3,
   "metadata": {},
   "outputs": [],
   "source": [
    "from nltk.tokenize import sent_tokenize"
   ]
  },
  {
   "cell_type": "markdown",
   "metadata": {},
   "source": [
    "Due to memory and time constraints we'll use our quick and dirty tokenizer:"
   ]
  },
  {
   "cell_type": "code",
   "execution_count": 4,
   "metadata": {},
   "outputs": [],
   "source": [
    "def fast_tokenize(text):\n",
    "    \n",
    "    # Iterate through text removing punctuation characters\n",
    "    no_punct = \"\".join([char for char in text if char not in punctuation])\n",
    "    \n",
    "    # Split text over whitespace into list of words\n",
    "    tokens = no_punct.split()\n",
    "    \n",
    "    return tokens"
   ]
  },
  {
   "cell_type": "markdown",
   "metadata": {},
   "source": [
    "First get the sentences:"
   ]
  },
  {
   "cell_type": "code",
   "execution_count": 5,
   "metadata": {},
   "outputs": [],
   "source": [
    "sentences = [sentence for novel in novel_list for sentence in sent_tokenize(novel)]"
   ]
  },
  {
   "cell_type": "markdown",
   "metadata": {},
   "source": [
    "Now the words:"
   ]
  },
  {
   "cell_type": "code",
   "execution_count": 6,
   "metadata": {},
   "outputs": [],
   "source": [
    "words_by_sentence = [fast_tokenize(sentence.lower()) for sentence in sentences]"
   ]
  },
  {
   "cell_type": "markdown",
   "metadata": {},
   "source": [
    "We'll double check that we don't have any empty sentences:"
   ]
  },
  {
   "cell_type": "code",
   "execution_count": 7,
   "metadata": {},
   "outputs": [],
   "source": [
    "words_by_sentence = [sentence for sentence in words_by_sentence if sentence != []]"
   ]
  },
  {
   "cell_type": "markdown",
   "metadata": {},
   "source": [
    "We should now have a `list` of `list`s with sentences and words:"
   ]
  },
  {
   "cell_type": "code",
   "execution_count": 8,
   "metadata": {},
   "outputs": [
    {
     "data": {
      "text/plain": [
       "[['author’s',\n",
       "  'introduction',\n",
       "  'my',\n",
       "  'dog',\n",
       "  'had',\n",
       "  'made',\n",
       "  'a',\n",
       "  'point',\n",
       "  'on',\n",
       "  'a',\n",
       "  'piece',\n",
       "  'of',\n",
       "  'fallowground',\n",
       "  'and',\n",
       "  'led',\n",
       "  'the',\n",
       "  'curate',\n",
       "  'and',\n",
       "  'me',\n",
       "  'two',\n",
       "  'or',\n",
       "  'three',\n",
       "  'hundred',\n",
       "  'yards',\n",
       "  'over',\n",
       "  'that',\n",
       "  'and',\n",
       "  'some',\n",
       "  'stubble',\n",
       "  'adjoining',\n",
       "  'in',\n",
       "  'a',\n",
       "  'breathless',\n",
       "  'state',\n",
       "  'of',\n",
       "  'expectation',\n",
       "  'on',\n",
       "  'a',\n",
       "  'burning',\n",
       "  'first',\n",
       "  'of',\n",
       "  'september'],\n",
       " ['it',\n",
       "  'was',\n",
       "  'a',\n",
       "  'false',\n",
       "  'point',\n",
       "  'and',\n",
       "  'our',\n",
       "  'labour',\n",
       "  'was',\n",
       "  'vain',\n",
       "  'yet',\n",
       "  'to',\n",
       "  'do',\n",
       "  'rover',\n",
       "  'justice',\n",
       "  'for',\n",
       "  'he’s',\n",
       "  'an',\n",
       "  'excellent',\n",
       "  'dog',\n",
       "  'though',\n",
       "  'i',\n",
       "  'have',\n",
       "  'lost',\n",
       "  'his',\n",
       "  'pedigree',\n",
       "  'the',\n",
       "  'fault',\n",
       "  'was',\n",
       "  'none',\n",
       "  'of',\n",
       "  'his',\n",
       "  'the',\n",
       "  'birds',\n",
       "  'were',\n",
       "  'gone',\n",
       "  'the',\n",
       "  'curate',\n",
       "  'showed',\n",
       "  'me',\n",
       "  'the',\n",
       "  'spot',\n",
       "  'where',\n",
       "  'they',\n",
       "  'had',\n",
       "  'lain',\n",
       "  'basking',\n",
       "  'at',\n",
       "  'the',\n",
       "  'root',\n",
       "  'of',\n",
       "  'an',\n",
       "  'old',\n",
       "  'hedge']]"
      ]
     },
     "execution_count": 8,
     "metadata": {},
     "output_type": "execute_result"
    }
   ],
   "source": [
    "words_by_sentence[:2]"
   ]
  },
  {
   "cell_type": "markdown",
   "metadata": {
    "collapsed": true
   },
   "source": [
    "---\n",
    "\n",
    "# Word2Vec\n",
    "\n",
    "### Word Embeddings\n",
    "Word2Vec is the most prominent word embedding algorithm. Word embedding generally attempts to identify semantic relationships between words by observing them in context.\n",
    "\n",
    "Imagine that each word in a novel has its meaning determined by the ones that surround it in a limited window. For example, in Moby Dick's first sentence, “me” is paired on either side by “Call” and “Ishmael.” After observing the windows around every word in the novel (or many novels), the computer will notice a pattern in which “me” falls between similar pairs of words to “her,” “him,” or “them.” Of course, the computer had gone through a similar process over the words “Call” and “Ishmael,” for which “me” is reciprocally part of their contexts.  This chaining of signifiers to one another mirrors some of humanists' most sophisticated interpretative frameworks of language.\n",
    "\n",
    "The two main flavors of Word2Vec are CBOW (Continuous Bag of Words) and Skip-Gram, which can be distinguished partly by their input and output during training. Skip-Gram takes a word of interest as its input (e.g. \"me\") and tries to learn how to predict its context words (\"Call\",\"Ishmael\"). CBOW does the opposite, taking the context words (\"Call\",\"Ishmael\") as a single input and tries to predict the word of interest (\"me\").\n",
    "\n",
    "In general, CBOW is is faster and does well with frequent words, while Skip-Gram potentially represents rare words better.\n",
    "\n",
    "### Word2Vec Features\n",
    "<ul>\n",
    "<li>`size`: Number of dimensions for word embedding model</li>\n",
    "<li>`window`: Number of context words to observe in each direction</li>\n",
    "<li>`min_count`: Minimum frequency for words included in model</li>\n",
    "<li>`sg` (Skip-Gram): '0' indicates CBOW model; '1' indicates Skip-Gram</li>\n",
    "<li>`alpha`: Learning rate (initial); prevents model from over-correcting, enables finer tuning</li>\n",
    "<li>`iterations`: Number of passes through dataset</li>\n",
    "<li>`batch_words`: Number of words to sample from data during each pass</li>\n",
    "</ul>\n",
    "\n",
    "Note: cell below uses default value for each argument"
   ]
  },
  {
   "cell_type": "markdown",
   "metadata": {},
   "source": [
    "## Training\n",
    "\n",
    "We've gotten accustomed to training powerful models in Python with one line of code, why stop now?"
   ]
  },
  {
   "cell_type": "code",
   "execution_count": 9,
   "metadata": {},
   "outputs": [],
   "source": [
    "model = gensim.models.Word2Vec(words_by_sentence, size=100, window=5, \\\n",
    "                               min_count=5, sg=0, alpha=0.025, iter=5, batch_words=10000)"
   ]
  },
  {
   "cell_type": "markdown",
   "metadata": {},
   "source": [
    "## Embeddings\n",
    "\n",
    "We can return the actual high-dimensional vector by simply indexing the model with the word as the key:"
   ]
  },
  {
   "cell_type": "code",
   "execution_count": 10,
   "metadata": {},
   "outputs": [
    {
     "data": {
      "text/plain": [
       "array([ 1.00467646,  1.20889175,  0.51985395,  0.87474841, -0.38609955,\n",
       "       -0.44687778,  1.36696458,  2.53271317, -0.32865602,  1.50504839,\n",
       "        0.41667056,  1.98271441, -1.83149052,  0.82445538, -0.46331751,\n",
       "        1.55685365,  1.79602408, -0.38426474,  0.81910509, -0.42486715,\n",
       "       -0.35260636, -1.38144267,  0.95917869, -0.30849117, -0.06298465,\n",
       "        0.51055247, -2.1540091 ,  1.2654655 ,  0.28431723,  1.29390144,\n",
       "       -1.57630467, -1.37701225, -2.39790297, -0.01798446,  0.80885923,\n",
       "        1.03643441,  0.92897213,  1.31302881, -0.54106373,  0.75391322,\n",
       "       -0.48025039, -1.68374014, -1.53796375, -0.87503797, -0.74101275,\n",
       "        0.32075772, -0.68302262, -0.20055896,  0.45135143, -0.60655725,\n",
       "       -1.31984353, -1.09763253, -1.67011416,  1.43778455, -0.48523661,\n",
       "        1.80970562,  1.64083505,  2.52583146, -0.6155771 ,  0.24210665,\n",
       "       -0.07706307,  0.05056676,  1.17181587, -1.1668303 , -0.88233155,\n",
       "        0.76964366, -0.37910572,  0.40348813, -0.4638809 ,  0.60210955,\n",
       "        1.89214563,  1.04568195,  0.87683988, -2.04347587,  0.19009922,\n",
       "       -0.15782267,  0.39389694, -1.37835002, -0.6114108 ,  1.83317018,\n",
       "        2.19622064, -0.06048246,  0.36595392,  0.30887121, -0.77131635,\n",
       "        0.76180565, -2.33886361, -1.05714869,  1.08918023,  0.36473605,\n",
       "        0.35524711,  1.64172494, -0.33914182,  0.86712933, -0.28711176,\n",
       "        0.3225823 , -2.24953222,  1.11201417,  1.36575413, -1.42024684], dtype=float32)"
      ]
     },
     "execution_count": 10,
     "metadata": {},
     "output_type": "execute_result"
    }
   ],
   "source": [
    "model['whale']"
   ]
  },
  {
   "cell_type": "markdown",
   "metadata": {},
   "source": [
    "`gensim` comes with some handy methods to analyze word relationships. `similarity` will give us a number from 0-1 based on how similar two words are. If this sounds like cosine similarity for words, you'd be right! It just takes the cosine similarity of these high dimensional vectors:"
   ]
  },
  {
   "cell_type": "code",
   "execution_count": 11,
   "metadata": {},
   "outputs": [
    {
     "data": {
      "text/plain": [
       "0.67840074655017779"
      ]
     },
     "execution_count": 11,
     "metadata": {},
     "output_type": "execute_result"
    }
   ],
   "source": [
    "model.similarity('sense','sensibility')"
   ]
  },
  {
   "cell_type": "markdown",
   "metadata": {},
   "source": [
    "We can also find cosine distance between two clusters of word vectors. Each cluster is measured as the mean of its words:"
   ]
  },
  {
   "cell_type": "code",
   "execution_count": 12,
   "metadata": {},
   "outputs": [
    {
     "data": {
      "text/plain": [
       "0.13052920497900905"
      ]
     },
     "execution_count": 12,
     "metadata": {},
     "output_type": "execute_result"
    }
   ],
   "source": [
    "model.n_similarity(['sense','sensibility'],['whale','harpoon'])"
   ]
  },
  {
   "cell_type": "markdown",
   "metadata": {},
   "source": [
    "We can find words that don't belong with `doesnt_match`. It finds the mean vector of the words in the `list`, and identifies the furthest away:"
   ]
  },
  {
   "cell_type": "code",
   "execution_count": 13,
   "metadata": {},
   "outputs": [
    {
     "data": {
      "text/plain": [
       "'harpoon'"
      ]
     },
     "execution_count": 13,
     "metadata": {},
     "output_type": "execute_result"
    }
   ],
   "source": [
    "model.doesnt_match(['pride','prejudice', 'harpoon'])"
   ]
  },
  {
   "cell_type": "markdown",
   "metadata": {},
   "source": [
    "The most famous implementation of this vector math is semantics. What happens if we take:\n",
    "\n",
    "$$King - Man + Woman = $$"
   ]
  },
  {
   "cell_type": "code",
   "execution_count": 14,
   "metadata": {},
   "outputs": [
    {
     "data": {
      "text/plain": [
       "[('princess', 0.7900525331497192),\n",
       " ('queen', 0.6757586002349854),\n",
       " ('priest', 0.6748829483985901),\n",
       " ('duke', 0.6657854318618774),\n",
       " ('saint', 0.6566997766494751),\n",
       " ('chevalier', 0.6339526176452637),\n",
       " ('conqueror', 0.630264163017273),\n",
       " ('jesus', 0.6212507486343384),\n",
       " ('abbot', 0.6177749633789062),\n",
       " ('earl', 0.6162674427032471)]"
      ]
     },
     "execution_count": 14,
     "metadata": {},
     "output_type": "execute_result"
    }
   ],
   "source": [
    "model.most_similar(positive=['woman', 'king'], negative=['man'])"
   ]
  },
  {
   "cell_type": "markdown",
   "metadata": {},
   "source": [
    "Schmidt looked at words associated with male and female pronouns to investigate gender. Let's try take all the female pronouns and subtracting the male pronouns:"
   ]
  },
  {
   "cell_type": "code",
   "execution_count": 15,
   "metadata": {},
   "outputs": [
    {
     "data": {
      "text/plain": [
       "[('lovely', 0.5223650336265564),\n",
       " ('beautiful', 0.492579847574234),\n",
       " ('sweet', 0.4772818684577942),\n",
       " ('miss', 0.4763747453689575),\n",
       " ('beauty', 0.46912097930908203),\n",
       " ('girlish', 0.45516645908355713),\n",
       " ('maiden', 0.44884634017944336),\n",
       " ('charms', 0.4142068922519684),\n",
       " ('roses', 0.40935882925987244),\n",
       " ('mary', 0.40777432918548584)]"
      ]
     },
     "execution_count": 15,
     "metadata": {},
     "output_type": "execute_result"
    }
   ],
   "source": [
    "model.most_similar(positive=['she','her','hers','herself'], negative=['he','him','his','himself'])"
   ]
  },
  {
   "cell_type": "markdown",
   "metadata": {},
   "source": [
    "And the opposite:"
   ]
  },
  {
   "cell_type": "code",
   "execution_count": 16,
   "metadata": {},
   "outputs": [
    {
     "data": {
      "text/plain": [
       "[('moby', 0.5020142197608948),\n",
       " ('horse', 0.4578907787799835),\n",
       " ('captains', 0.428665429353714),\n",
       " ('captain', 0.4253777265548706),\n",
       " ('manfully', 0.421734482049942),\n",
       " ('british', 0.417234867811203),\n",
       " ('realestate', 0.414542555809021),\n",
       " ('railroad', 0.4143860638141632),\n",
       " ('bill', 0.413594126701355),\n",
       " ('lazarus', 0.41127312183380127)]"
      ]
     },
     "execution_count": 16,
     "metadata": {},
     "output_type": "execute_result"
    }
   ],
   "source": [
    "model.most_similar(positive=['he','him','his','himself'], negative=['she','her','hers','herself'])"
   ]
  },
  {
   "cell_type": "markdown",
   "metadata": {},
   "source": [
    "How about together (*genderless* in Schmidt's sense)?"
   ]
  },
  {
   "cell_type": "code",
   "execution_count": 17,
   "metadata": {
    "scrolled": true
   },
   "outputs": [
    {
     "data": {
      "text/plain": [
       "[('camilla', 0.6021047830581665),\n",
       " ('eugenia', 0.5990562438964844),\n",
       " ('antonia', 0.5876123905181885),\n",
       " ('them', 0.5763952136039734),\n",
       " ('itself', 0.5739874839782715),\n",
       " ('it', 0.5708581209182739),\n",
       " ('edgar', 0.570284366607666),\n",
       " ('eleanor', 0.5648343563079834),\n",
       " ('carrie', 0.5616603493690491),\n",
       " ('margaret', 0.5600961446762085),\n",
       " ('indiana', 0.5557299256324768),\n",
       " ('adeline', 0.554192304611206),\n",
       " ('erica', 0.5453476905822754),\n",
       " ('algernon', 0.5385311841964722),\n",
       " ('cora', 0.5355685949325562),\n",
       " ('aileen', 0.5335055589675903),\n",
       " ('leonora', 0.5301992893218994),\n",
       " ('kim', 0.5279827117919922),\n",
       " ('rebecca', 0.5250587463378906),\n",
       " ('amy', 0.5195494890213013),\n",
       " ('isabel', 0.514503538608551),\n",
       " ('valancourt', 0.5108338594436646),\n",
       " ('heyward', 0.5093873739242554),\n",
       " ('elinor', 0.5084014534950256),\n",
       " ('marianne', 0.5061180591583252),\n",
       " ('me', 0.505607545375824),\n",
       " ('emily', 0.5021919012069702),\n",
       " ('her—she', 0.4996662437915802),\n",
       " ('glenmurray', 0.4969560205936432),\n",
       " ('munro', 0.49595534801483154),\n",
       " ('rhoda', 0.4956609606742859),\n",
       " ('maggie', 0.49487459659576416),\n",
       " ('agatha', 0.4941459894180298),\n",
       " ('hurstwood', 0.4910048842430115),\n",
       " ('constraint', 0.4899129867553711),\n",
       " ('clermont', 0.48953932523727417),\n",
       " ('catherine', 0.48886749148368835),\n",
       " ('latter', 0.4871007800102234),\n",
       " ('carwin', 0.4869815707206726),\n",
       " ('savonarola', 0.4868294894695282),\n",
       " ('myself', 0.48404353857040405),\n",
       " ('monica', 0.4837369918823242),\n",
       " ('magua', 0.48313575983047485),\n",
       " ('cornelia', 0.4825942814350128),\n",
       " ('tess', 0.4809184670448303),\n",
       " ('illtemper', 0.47928839921951294),\n",
       " ('duncan', 0.4781990349292755),\n",
       " ('pansy', 0.47813016176223755),\n",
       " ('edward', 0.4759950637817383),\n",
       " ('miriam', 0.47564131021499634)]"
      ]
     },
     "execution_count": 17,
     "metadata": {},
     "output_type": "execute_result"
    }
   ],
   "source": [
    "model.most_similar(positive=['she','her','hers','herself','he','him','his','himself'], topn=50)"
   ]
  },
  {
   "cell_type": "markdown",
   "metadata": {},
   "source": [
    "---\n",
    "\n",
    "# Homework\n",
    "\n",
    "Use the `most_similar` method to find the tokens nearest to 'car' in our model. Do the same for 'motorcar'."
   ]
  },
  {
   "cell_type": "code",
   "execution_count": 19,
   "metadata": {},
   "outputs": [
    {
     "data": {
      "text/plain": [
       "[('coach', 0.8305587768554688),\n",
       " ('cart', 0.8179523944854736),\n",
       " ('cab', 0.8085517287254333),\n",
       " ('wagon', 0.7979505658149719),\n",
       " ('vehicle', 0.7966638803482056),\n",
       " ('chaise', 0.7850784659385681),\n",
       " ('buggy', 0.7820613384246826),\n",
       " ('boat', 0.7765893936157227),\n",
       " ('sled', 0.776351809501648),\n",
       " ('hansom', 0.7709042429924011)]"
      ]
     },
     "execution_count": 19,
     "metadata": {},
     "output_type": "execute_result"
    }
   ],
   "source": [
    "model.most_similar('car')"
   ]
  },
  {
   "cell_type": "code",
   "execution_count": 20,
   "metadata": {},
   "outputs": [
    {
     "data": {
      "text/plain": [
       "[('peg', 0.7310126423835754),\n",
       " ('basketful', 0.7307409644126892),\n",
       " ('loin', 0.7211947441101074),\n",
       " ('snack', 0.7198678255081177),\n",
       " ('canvasback', 0.7168513536453247),\n",
       " ('façade', 0.7118449211120605),\n",
       " ('moneybag', 0.7095673084259033),\n",
       " ('cauldron', 0.7083048224449158),\n",
       " ('oilcloth', 0.7082169055938721),\n",
       " ('kaffir', 0.7076573371887207)]"
      ]
     },
     "execution_count": 20,
     "metadata": {},
     "output_type": "execute_result"
    }
   ],
   "source": [
    "model.most_similar('motorcar')"
   ]
  },
  {
   "cell_type": "markdown",
   "metadata": {},
   "source": [
    "What characterizes each word in our corpus? Does this make sense?"
   ]
  },
  {
   "cell_type": "code",
   "execution_count": null,
   "metadata": {},
   "outputs": [],
   "source": [
    "#Car is most similar to coach, cart, cab, wagon, and vehicle whereas motorcar is most similar to peg, basketful, loin, and snack.\n",
    "#This makes sense considering in our corpus, cor would be more commonly associated with transportation of people\n",
    "#whereas motorcar is a more dated term referring to a vehicle carrying items, hence why 'basketful' or 'monyebag' is similar."
   ]
  },
  {
   "cell_type": "markdown",
   "metadata": {
    "collapsed": true
   },
   "source": [
    "Vector addition and subtraction can be thought of in terms of analogy. From the example above: 'man' is to 'king' as 'woman' is to '???'. Use the `most_similar` method to find: 'paris' is to 'france' as 'london' is to '???'"
   ]
  },
  {
   "cell_type": "code",
   "execution_count": 21,
   "metadata": {},
   "outputs": [
    {
     "data": {
      "text/plain": [
       "[('england', 0.8100202083587646),\n",
       " ('spain', 0.7801339626312256),\n",
       " ('germany', 0.7683910131454468),\n",
       " ('italy', 0.7640135288238525),\n",
       " ('europe', 0.7555056214332581),\n",
       " ('america', 0.7475330829620361),\n",
       " ('scotland', 0.740490198135376),\n",
       " ('ireland', 0.7398630380630493),\n",
       " ('india', 0.7172313928604126),\n",
       " ('philadelphia', 0.6808416843414307)]"
      ]
     },
     "execution_count": 21,
     "metadata": {},
     "output_type": "execute_result"
    }
   ],
   "source": [
    "model.most_similar(positive=['london', 'france'], negative=['paris'])"
   ]
  },
  {
   "cell_type": "markdown",
   "metadata": {
    "collapsed": true
   },
   "source": [
    "What has our model learned about nation-states?"
   ]
  },
  {
   "cell_type": "code",
   "execution_count": null,
   "metadata": {},
   "outputs": [],
   "source": [
    "#Given that our model correctly analogized that france - paris + london = england and produced other nation-states such as\n",
    "#Spain, Germany, and Italy as the next most similar terms, we can deduce that our model has learned that nation-states\n",
    "#are terms that contain the capital or cities, as in paris is semantically included in its concept of france"
   ]
  },
  {
   "cell_type": "markdown",
   "metadata": {
    "collapsed": true
   },
   "source": [
    "Perform the canonic Word2Vec addition again but leave out a term. Try 'king' - 'man', 'woman' - 'man', 'woman' + 'king'."
   ]
  },
  {
   "cell_type": "code",
   "execution_count": 22,
   "metadata": {},
   "outputs": [
    {
     "data": {
      "text/plain": [
       "[('royal', 0.49997812509536743),\n",
       " ('vespers', 0.4820455312728882),\n",
       " ('karl', 0.4802383482456207),\n",
       " ('casimir', 0.47981828451156616),\n",
       " ('sheba', 0.47872960567474365),\n",
       " ('lords', 0.4671744406223297),\n",
       " ('holy', 0.46118611097335815),\n",
       " ('marshal', 0.4606616497039795),\n",
       " ('tarlenheim', 0.45703089237213135),\n",
       " ('abraham', 0.4557033181190491)]"
      ]
     },
     "execution_count": 22,
     "metadata": {},
     "output_type": "execute_result"
    }
   ],
   "source": [
    "model.most_similar(positive=['king'], negative=['man'])"
   ]
  },
  {
   "cell_type": "code",
   "execution_count": 23,
   "metadata": {},
   "outputs": [
    {
     "data": {
      "text/plain": [
       "[('maiden', 0.5159041881561279),\n",
       " ('maid', 0.5005052089691162),\n",
       " ('jane', 0.49590232968330383),\n",
       " ('lovely', 0.4797499477863312),\n",
       " ('madeleine', 0.47460314631462097),\n",
       " ('susan', 0.47015130519866943),\n",
       " ('bloofer', 0.45929738879203796),\n",
       " ('baldock', 0.4563851058483124),\n",
       " ('claudia', 0.4555233120918274),\n",
       " ('beautiful', 0.45499539375305176)]"
      ]
     },
     "execution_count": 23,
     "metadata": {},
     "output_type": "execute_result"
    }
   ],
   "source": [
    "model.most_similar(positive=['woman'], negative=['man'])"
   ]
  },
  {
   "cell_type": "code",
   "execution_count": 24,
   "metadata": {},
   "outputs": [
    {
     "data": {
      "text/plain": [
       "[('creature', 0.5968270301818848),\n",
       " ('girl', 0.5605106353759766),\n",
       " ('person', 0.485487699508667),\n",
       " ('womans', 0.4431207478046417),\n",
       " ('gentlewoman', 0.43111124634742737),\n",
       " ('womanly', 0.41828837990760803),\n",
       " ('female', 0.407216340303421),\n",
       " ('trifle', 0.4031943082809448),\n",
       " ('man', 0.4010007679462433),\n",
       " ('girlish', 0.3963150084018707)]"
      ]
     },
     "execution_count": 24,
     "metadata": {},
     "output_type": "execute_result"
    }
   ],
   "source": [
    "model.most_similar(positive=['woman'], negative=['king'])"
   ]
  },
  {
   "cell_type": "markdown",
   "metadata": {
    "collapsed": true
   },
   "source": [
    "What do these indicate semantically?"
   ]
  },
  {
   "cell_type": "code",
   "execution_count": 25,
   "metadata": {},
   "outputs": [],
   "source": [
    "#King-man left words that typically indicated either royalty or holiness, such as 'royal', 'vesper', and 'holy'. Semantically,\n",
    "#this indicates that the property of being royal is semantically similar to being holy in our corpus and that man is typically\n",
    "#used in a plainer, general sense.\n",
    "\n",
    "#Woman-man essentially spat out words to indicate single women such as 'maiden' and 'maid' or adjectives such as 'lovely'\n",
    "#or 'beautiful'. This indicates that semantically, there is emphasis and specific markers of single women whereas if you take\n",
    "#woman-king, nothing particularly meaningful emerges."
   ]
  },
  {
   "cell_type": "markdown",
   "metadata": {},
   "source": [
    "---\n",
    "\n",
    "## Visualization\n",
    "\n",
    "We can use multi-dimensional scaling to visualize this space just like we did with the documents before. But there are a lot of words here, so let's limit it to 50 words from our female gendered subset:"
   ]
  },
  {
   "cell_type": "code",
   "execution_count": 26,
   "metadata": {},
   "outputs": [],
   "source": [
    "her_tokens = [token for token,weight in model.most_similar(positive=['she','her','hers','herself'], \\\n",
    "                                                       negative=['he','him','his','himself'], topn=50)]"
   ]
  },
  {
   "cell_type": "markdown",
   "metadata": {},
   "source": [
    "We need to get the vector from each word, just like above, and add that to a list:"
   ]
  },
  {
   "cell_type": "code",
   "execution_count": 27,
   "metadata": {},
   "outputs": [],
   "source": [
    "vectors = [model[word] for word in her_tokens]    "
   ]
  },
  {
   "cell_type": "markdown",
   "metadata": {},
   "source": [
    "We can then calculate pairwise the cosine distance:"
   ]
  },
  {
   "cell_type": "code",
   "execution_count": 28,
   "metadata": {},
   "outputs": [],
   "source": [
    "from sklearn.metrics import pairwise\n",
    "dist_matrix = pairwise.pairwise_distances(vectors, metric='cosine')"
   ]
  },
  {
   "cell_type": "markdown",
   "metadata": {},
   "source": [
    "We'll use `MDS` to reduce the dimensions to two:"
   ]
  },
  {
   "cell_type": "code",
   "execution_count": 29,
   "metadata": {},
   "outputs": [],
   "source": [
    "from sklearn.manifold import MDS\n",
    "mds = MDS(n_components = 2, dissimilarity='precomputed')\n",
    "embeddings = mds.fit_transform(dist_matrix)"
   ]
  },
  {
   "cell_type": "markdown",
   "metadata": {},
   "source": [
    "Some fancy `matplotlib` code..."
   ]
  },
  {
   "cell_type": "code",
   "execution_count": 30,
   "metadata": {},
   "outputs": [
    {
     "data": {
      "image/png": "[encoded data removed]",
      "text/plain": [
       "<matplotlib.figure.Figure at 0x7f633f278978>"
      ]
     },
     "metadata": {},
     "output_type": "display_data"
    }
   ],
   "source": [
    "_, ax = plt.subplots(figsize=(10,10))\n",
    "ax.scatter(embeddings[:,0], embeddings[:,1], alpha=0)\n",
    "for i in range(len(vectors)):\n",
    "    ax.annotate(her_tokens[i], ((embeddings[i,0], embeddings[i,1])))"
   ]
  },
  {
   "cell_type": "markdown",
   "metadata": {
    "collapsed": true
   },
   "source": [
    "What kinds of semantic relationships exist in the diagram above? Are there any words that seem out of place? How do you think they go there?"
   ]
  },
  {
   "cell_type": "code",
   "execution_count": 31,
   "metadata": {},
   "outputs": [],
   "source": [
    "#Feminine adjectives seem to group on the center bottom of the diagram with 'adorable', 'delicate', and 'childish'. Elderly \n",
    "#women seem to be grouped at the top with 'grandmother' and 'aunt' but 'baby' is also there and is probably out of place.\n",
    "#Perhaps it ended up there because it was commonly mentioned in conjunction with grandmother and aunt in that they took care\n",
    "#of the baby."
   ]
  },
  {
   "cell_type": "markdown",
   "metadata": {},
   "source": [
    "---\n",
    "\n",
    "# Saving/Loading Models\n",
    "\n",
    "We can save the model as a `.txt` file with the `save_word2vec_format` method:"
   ]
  },
  {
   "cell_type": "code",
   "execution_count": 32,
   "metadata": {},
   "outputs": [],
   "source": [
    "model.wv.save_word2vec_format('word2vec.txtalb_Novel150_English.txt')"
   ]
  },
  {
   "cell_type": "markdown",
   "metadata": {},
   "source": [
    "To load up a model, we just ask `gensim`. Here's a model trained on Eighteenth Century Collections Online corpus (~2500 texts) made available by Ryan Heuser: http://ryanheuser.org/word-vectors-1/"
   ]
  },
  {
   "cell_type": "code",
   "execution_count": 33,
   "metadata": {},
   "outputs": [],
   "source": [
    "ecco_model = gensim.models.KeyedVectors.load_word2vec_format('data/word2vec.ECCO-TCP.txt')"
   ]
  },
  {
   "cell_type": "code",
   "execution_count": 34,
   "metadata": {},
   "outputs": [
    {
     "data": {
      "text/plain": [
       "[('queen', 0.7854657173156738),\n",
       " ('emperor', 0.7523162364959717),\n",
       " ('prince', 0.7436755895614624),\n",
       " ('princess', 0.713316798210144),\n",
       " ('conqueror', 0.7111818194389343),\n",
       " ('regent', 0.7088087797164917),\n",
       " ('empress', 0.6977599263191223),\n",
       " ('sultan', 0.6729022264480591),\n",
       " ('confessor', 0.6569845676422119),\n",
       " ('duke', 0.6366889476776123)]"
      ]
     },
     "execution_count": 34,
     "metadata": {},
     "output_type": "execute_result"
    }
   ],
   "source": [
    "ecco_model.most_similar(positive=['woman', 'king'], negative=['man'])"
   ]
  },
  {
   "cell_type": "code",
   "execution_count": 35,
   "metadata": {},
   "outputs": [
    {
     "data": {
      "text/plain": [
       "[(\"harriet's\", 0.5708541870117188),\n",
       " ('softness', 0.5513930320739746),\n",
       " ('maiden', 0.5411286354064941),\n",
       " (\"chloe's\", 0.5403314828872681),\n",
       " ('lovely', 0.5320479869842529),\n",
       " ('coy', 0.5259038209915161),\n",
       " ('bewitching', 0.5255858898162842),\n",
       " ('soft', 0.5217857956886292),\n",
       " ('blushing', 0.5112706422805786),\n",
       " ('virgin', 0.5070083141326904)]"
      ]
     },
     "execution_count": 35,
     "metadata": {},
     "output_type": "execute_result"
    }
   ],
   "source": [
    "ecco_model.most_similar(positive=['she','her','hers','herself'], negative=['he','him','his','himself'])"
   ]
  },
  {
   "cell_type": "markdown",
   "metadata": {},
   "source": [
    "How does this differ from our novels model?"
   ]
  },
  {
   "cell_type": "code",
   "execution_count": 36,
   "metadata": {},
   "outputs": [],
   "source": [
    "#For woman-man+king, this model seems to indicate royalness more accurately without mixing in the idea of holiness and religion\n",
    "#as in our last model above. And for the feminine pronouns - male pronouns it seems to give more proper nouns. This difference\n",
    "#is mostly like because this model was trained specifically on an Eighteenth Century Corpus."
   ]
  },
  {
   "cell_type": "markdown",
   "metadata": {
    "collapsed": true
   },
   "source": [
    "---\n",
    "\n",
    "# Homework\n",
    "\n",
    "Heuser's blog post explores an analogy in eighteenth-century thought that Riches are to Virtue what Learning is to Genius. How true is this in the ECCO-trained Word2Vec model? Is it true in the one we trained?\n",
    "\n",
    "How might we compare word2vec models more generally?"
   ]
  },
  {
   "cell_type": "code",
   "execution_count": 37,
   "metadata": {},
   "outputs": [
    {
     "data": {
      "text/plain": [
       "[('piety', 0.7372761368751526),\n",
       " ('morality', 0.7266900539398193),\n",
       " ('science', 0.6974709630012512),\n",
       " ('prudence', 0.6855395436286926),\n",
       " ('philosophy', 0.683079183101654),\n",
       " ('wisdom', 0.6511392593383789),\n",
       " ('genius', 0.6505820155143738),\n",
       " ('humanity', 0.640283465385437),\n",
       " ('modesty', 0.6369403004646301),\n",
       " ('morals', 0.6340599060058594)]"
      ]
     },
     "execution_count": 37,
     "metadata": {},
     "output_type": "execute_result"
    }
   ],
   "source": [
    "ecco_model.most_similar(positive=['learning', 'virtue'], negative=['riches'])"
   ]
  },
  {
   "cell_type": "code",
   "execution_count": 38,
   "metadata": {},
   "outputs": [
    {
     "data": {
      "text/plain": [
       "[('religion', 0.6649876832962036),\n",
       " ('science', 0.6374492645263672),\n",
       " ('principle', 0.6100664734840393),\n",
       " ('honesty', 0.6008287072181702),\n",
       " ('philosophy', 0.5999659299850464),\n",
       " ('wisdom', 0.5934861898422241),\n",
       " ('teaching', 0.5929660201072693),\n",
       " ('refinement', 0.5718910694122314),\n",
       " ('christianity', 0.5694839954376221),\n",
       " ('doctrine', 0.5658604502677917)]"
      ]
     },
     "execution_count": 38,
     "metadata": {},
     "output_type": "execute_result"
    }
   ],
   "source": [
    "model.most_similar(positive=['learning', 'virtue'], negative=['riches'])"
   ]
  },
  {
   "cell_type": "code",
   "execution_count": 39,
   "metadata": {},
   "outputs": [],
   "source": [
    "#The ECCO trained model reflects this slightly better with 2 mentions of intelligence with 'wisdom' and 'genius' whereas\n",
    "#our model only mentioned 'wisdom'. We might compare the 2 models more generally by comparing the indices of the dimensions themselves\n",
    "#for a couple of words rather than looking at these similarities."
   ]
  },
  {
   "cell_type": "markdown",
   "metadata": {},
   "source": [
    "---\n",
    "\n",
    "# Alternative features for a classification model\n",
    "\n",
    "This is really cool but what implications does this have for our model of language? Well, word embeddings are simply more precise features of what we've been trying to get at already. That means we can use them in the machine learning models we've been building.\n",
    "\n",
    "Recall our DTM bag of words classifier:"
   ]
  },
  {
   "cell_type": "code",
   "execution_count": 40,
   "metadata": {},
   "outputs": [
    {
     "name": "stdout",
     "output_type": "stream",
     "text": [
      "[nltk_data] Downloading package movie_reviews to /srv/app/nltk_data...\n",
      "[nltk_data]   Unzipping corpora/movie_reviews.zip.\n"
     ]
    },
    {
     "data": {
      "text/plain": [
       "True"
      ]
     },
     "execution_count": 40,
     "metadata": {},
     "output_type": "execute_result"
    }
   ],
   "source": [
    "import nltk\n",
    "nltk.download('movie_reviews')"
   ]
  },
  {
   "cell_type": "code",
   "execution_count": 41,
   "metadata": {},
   "outputs": [
    {
     "data": {
      "text/plain": [
       "0.87250000000000005"
      ]
     },
     "execution_count": 41,
     "metadata": {},
     "output_type": "execute_result"
    }
   ],
   "source": [
    "from nltk.corpus import movie_reviews\n",
    "from sklearn.pipeline import Pipeline\n",
    "from sklearn.feature_extraction.text import TfidfVectorizer, CountVectorizer, TfidfTransformer\n",
    "from sklearn.linear_model import LogisticRegression\n",
    "from sklearn.model_selection import cross_val_score, train_test_split\n",
    "from sklearn.utils import shuffle\n",
    "\n",
    "reviews = [movie_reviews.raw(fileid) for fileid in movie_reviews.fileids()]\n",
    "judgements = [movie_reviews.categories(fileid)[0] for fileid in movie_reviews.fileids()]\n",
    "\n",
    "np.random.seed(0)\n",
    "\n",
    "X, y = shuffle(reviews, judgements, random_state=0)\n",
    "X_train, X_test, y_train, y_test = train_test_split(X, y, test_size=0.2, random_state=50)\n",
    "\n",
    "# get tfidf values\n",
    "tfidf = TfidfVectorizer()\n",
    "tfidf.fit(X)\n",
    "X_train_transformed = tfidf.transform(X_train)\n",
    "X_test_transformed = tfidf.transform(X_test)\n",
    "\n",
    "# build and test logit\n",
    "logit_class = LogisticRegression(penalty='l2', C=1000)\n",
    "logit_model = logit_class.fit(X_train_transformed, y_train)\n",
    "logit_model.score(X_test_transformed, y_test)"
   ]
  },
  {
   "cell_type": "code",
   "execution_count": 42,
   "metadata": {},
   "outputs": [
    {
     "data": {
      "text/plain": [
       "<1600x39659 sparse matrix of type '<class 'numpy.float64'>'\n",
       "\twith 536995 stored elements in Compressed Sparse Row format>"
      ]
     },
     "execution_count": 42,
     "metadata": {},
     "output_type": "execute_result"
    }
   ],
   "source": [
    "X_train_transformed"
   ]
  },
  {
   "cell_type": "markdown",
   "metadata": {},
   "source": [
    "---\n",
    "\n",
    "So how can we use word embeddings as features? Believe it or not, one of the most effective ways is to simply average each dimension of our embedding across all the words for a given document. Recall our w2v model for novels was trained for 100 dimensions. Creating the features for a specific document would entail first extracting the 100 dimensions for each word, then average each dimension across all words:"
   ]
  },
  {
   "cell_type": "code",
   "execution_count": 43,
   "metadata": {},
   "outputs": [
    {
     "data": {
      "text/plain": [
       "array([ 0.15536077,  0.42890638,  0.02310842,  0.09289157,  0.27132764,\n",
       "        0.06074336,  0.58128768,  0.43329245, -0.32017162, -0.07140835,\n",
       "       -0.25259125,  0.20234534,  0.08749947, -0.20579821,  0.18981314,\n",
       "       -0.1870721 ,  0.72190893,  0.4785367 ,  0.44925678, -0.04113583,\n",
       "       -0.11923898,  0.11841932,  0.32663006,  0.3410553 , -0.26771411,\n",
       "        0.27387813,  0.02832966,  0.40701208, -0.12943937, -0.35844275,\n",
       "       -0.18647158,  0.13392179, -0.27119872, -0.44510961,  0.4284291 ,\n",
       "        0.28852689,  0.09620371, -0.16259344,  0.31822273,  0.32886955,\n",
       "        0.29405546, -0.39674395, -0.12874557,  0.70969284, -0.11513752,\n",
       "        0.06542888, -0.19444166, -0.36775735,  0.42471907, -0.24726416,\n",
       "       -0.46745378,  0.11598809,  0.21796668,  0.54287356,  0.21585377,\n",
       "       -0.05401997, -0.47628623, -0.41268098, -0.1662731 , -1.01882386,\n",
       "       -0.36532405,  0.02312038, -0.06018003, -0.15217085, -0.00938407,\n",
       "       -0.40545055, -0.42136329,  0.05165458, -0.07144356,  0.47363311,\n",
       "        0.36767662,  0.45941606, -0.17393598, -0.82522225, -0.53676665,\n",
       "       -0.15527941, -0.4640626 , -0.52351123,  0.30984795, -0.07977378,\n",
       "        0.19252163,  0.38231939,  0.2187162 ,  0.22116941, -0.0139003 ,\n",
       "        0.30330682, -0.14513034,  0.02767276, -0.09823705,  0.04991622,\n",
       "       -0.43977132,  0.74315798,  0.01251065, -0.04031051, -0.45265555,\n",
       "        0.10200443, -0.49252191,  0.66531426,  0.74428046, -0.05020235], dtype=float32)"
      ]
     },
     "execution_count": 43,
     "metadata": {},
     "output_type": "execute_result"
    }
   ],
   "source": [
    "np.mean([model[w] for w in fast_tokenize(X[0]) if w in model], axis=0)"
   ]
  },
  {
   "cell_type": "markdown",
   "metadata": {},
   "source": [
    "This gives us a set `X` array with 100 features. We can write a function to do this for us for any given string:"
   ]
  },
  {
   "cell_type": "code",
   "execution_count": 44,
   "metadata": {},
   "outputs": [],
   "source": [
    "def w2v_featurize(document, model):\n",
    "    return np.mean([model[w] for w in fast_tokenize(document) if w in model], axis=0)"
   ]
  },
  {
   "cell_type": "markdown",
   "metadata": {},
   "source": [
    "We can then featurize all of our documents:"
   ]
  },
  {
   "cell_type": "code",
   "execution_count": 45,
   "metadata": {},
   "outputs": [],
   "source": [
    "X_train_w2v = [w2v_featurize(d, model) for d in X_train]\n",
    "X_test_w2v = [w2v_featurize(d, model) for d in X_test]"
   ]
  },
  {
   "cell_type": "code",
   "execution_count": 46,
   "metadata": {},
   "outputs": [
    {
     "data": {
      "text/plain": [
       "array([-0.00672692,  0.55945063, -0.17433092,  0.04825228,  0.41783917,\n",
       "        0.13930687,  0.43186304,  0.59551764, -0.1905652 , -0.25145963,\n",
       "       -0.25589627,  0.23451328, -0.03255634, -0.43593118,  0.21807338,\n",
       "       -0.13102737,  0.61782706,  0.21414544,  0.58940494,  0.06176108,\n",
       "        0.02522473,  0.02320884,  0.21029171,  0.18919833, -0.24397777,\n",
       "        0.23559061,  0.03406474,  0.47618175,  0.0135982 , -0.30129194,\n",
       "       -0.36072612,  0.01963783, -0.18053234, -0.25505584,  0.67932934,\n",
       "        0.23641014,  0.10235702, -0.39045206,  0.28219128,  0.42354846,\n",
       "        0.21127871, -0.23347349, -0.19884554,  0.3698186 , -0.0829533 ,\n",
       "        0.00343168, -0.31429744, -0.48838797,  0.45173621, -0.2251661 ,\n",
       "       -0.3577745 ,  0.01935672,  0.22523445,  0.58853698,  0.33668971,\n",
       "       -0.15554631, -0.54553974, -0.21209961, -0.06241051, -0.87799877,\n",
       "       -0.3900744 ,  0.01472515, -0.05475795,  0.11367492, -0.02639169,\n",
       "       -0.20639011, -0.28073394, -0.00273357, -0.07553723,  0.51338869,\n",
       "        0.44986573,  0.21179454, -0.2917951 , -0.79950625, -0.72644764,\n",
       "       -0.05846394, -0.2590673 , -0.54268831,  0.48819894, -0.23294185,\n",
       "        0.04909191,  0.35192147,  0.23991558,  0.21991214, -0.18092664,\n",
       "        0.26718906, -0.14231704,  0.16452815, -0.22692488, -0.00978063,\n",
       "       -0.35799387,  0.69696772,  0.29636908, -0.02511944, -0.40484768,\n",
       "       -0.07442956, -0.48802808,  0.76252097,  0.37899354,  0.10762633], dtype=float32)"
      ]
     },
     "execution_count": 46,
     "metadata": {},
     "output_type": "execute_result"
    }
   ],
   "source": [
    "X_train_w2v[0]"
   ]
  },
  {
   "cell_type": "markdown",
   "metadata": {},
   "source": [
    "We can fit and score the machine learning modle just as before:"
   ]
  },
  {
   "cell_type": "code",
   "execution_count": 47,
   "metadata": {},
   "outputs": [
    {
     "data": {
      "text/plain": [
       "0.78249999999999997"
      ]
     },
     "execution_count": 47,
     "metadata": {},
     "output_type": "execute_result"
    }
   ],
   "source": [
    "logit_class = LogisticRegression(random_state=0, penalty='l2', C=1000)\n",
    "logit_model = logit_class.fit(X_train_w2v, y_train)\n",
    "logit_model.score(X_test_w2v, y_test)"
   ]
  },
  {
   "cell_type": "markdown",
   "metadata": {},
   "source": [
    "What about Heuser's model?"
   ]
  },
  {
   "cell_type": "code",
   "execution_count": 48,
   "metadata": {},
   "outputs": [
    {
     "data": {
      "text/plain": [
       "0.77249999999999996"
      ]
     },
     "execution_count": 48,
     "metadata": {},
     "output_type": "execute_result"
    }
   ],
   "source": [
    "X_train_w2v = [w2v_featurize(d, ecco_model) for d in X_train]\n",
    "X_test_w2v = [w2v_featurize(d, ecco_model) for d in X_test]\n",
    "logit_class = LogisticRegression(random_state=0, penalty='l2', C=1000)\n",
    "logit_model = logit_class.fit(X_train_w2v, y_train)\n",
    "logit_model.score(X_test_w2v, y_test)"
   ]
  },
  {
   "cell_type": "markdown",
   "metadata": {},
   "source": [
    "Cool! But wait, what if we wanted to know *why* the model was making decisions. If we ask for the most postive coefficients:"
   ]
  },
  {
   "cell_type": "code",
   "execution_count": 49,
   "metadata": {},
   "outputs": [
    {
     "data": {
      "text/plain": [
       "array([77, 67, 88, 81, 15, 47, 57, 36, 90, 70])"
      ]
     },
     "execution_count": 49,
     "metadata": {},
     "output_type": "execute_result"
    }
   ],
   "source": [
    "np.argsort(logit_model.coef_[0])[-10:]"
   ]
  },
  {
   "cell_type": "markdown",
   "metadata": {},
   "source": [
    "And the negative:"
   ]
  },
  {
   "cell_type": "code",
   "execution_count": 50,
   "metadata": {},
   "outputs": [
    {
     "data": {
      "text/plain": [
       "array([97, 96, 49, 87,  0, 52, 84, 42, 43,  1])"
      ]
     },
     "execution_count": 50,
     "metadata": {},
     "output_type": "execute_result"
    }
   ],
   "source": [
    "np.argsort(logit_model.coef_[0])[:10]"
   ]
  },
  {
   "cell_type": "markdown",
   "metadata": {},
   "source": [
    "These are the *indices* for the important features. ***But what are these features now?***\n",
    "\n",
    "---\n",
    "\n",
    "Note that using our novels w2v model was not as accurate as a BoW tfidf method. That should be expected given movie review language is likely ***VERY*** different from our novel corpus. And our novel corpus likely didn't even have entries for a lot of the words used in our movie reviews corpus.\n",
    "\n",
    "For modern English, most people look for Stanford's [GloVe](https://nlp.stanford.edu/projects/glove/) model. This was trained on 6 billion tokens from Wikipedia and Gigaword! Quite a step up from 150 novels. Even the smallest model is a bit large to be working with on our cloud server, but using this model and the code below, you can see it's power:"
   ]
  },
  {
   "cell_type": "markdown",
   "metadata": {},
   "source": [
    "```python\n",
    ">>> os.system('python -m gensim.scripts.glove2word2vec -i glove.6B.100d.txt -o glove.6B.100d.w2v.txt')\n",
    ">>> glove = gensim.models.KeyedVectors.load_word2vec_format('glove.6B.100d.w2v.txt')\n",
    "\n",
    ">>> X_train_glove = [w2v_featurize(d, glove) for d in X_train]\n",
    ">>> X_test_glove = [w2v_featurize(d, glove) for d in X_test]\n",
    "\n",
    ">>> logit_class = LogisticRegression(random_state=0, penalty='l2', C=1000)\n",
    ">>> logit_model = logit_class.fit(X_train_glove, y_train)\n",
    ">>> logit_model.score(X_test_glove, y_test)\n",
    "\n",
    ".8125\n",
    "```"
   ]
  },
  {
   "cell_type": "markdown",
   "metadata": {},
   "source": [
    "While this is not as accurate as our BoW *tfidf* method, there have been several applications and transformations of word embeddings that have proven to be more accurate than a BoW *tfidf* on general modern text corpora. And keep in mind, one of the most interesting parts of this is that it only uses 100 dimensions, i.e., we can get ~81% accuracy by reducing a movie review to only 100 different features (our BoW model had over 39000!)."
   ]
  },
  {
   "cell_type": "code",
   "execution_count": 51,
   "metadata": {},
   "outputs": [
    {
     "data": {
      "text/plain": [
       "<1600x39659 sparse matrix of type '<class 'numpy.float64'>'\n",
       "\twith 536995 stored elements in Compressed Sparse Row format>"
      ]
     },
     "execution_count": 51,
     "metadata": {},
     "output_type": "execute_result"
    }
   ],
   "source": [
    "X_train_transformed"
   ]
  },
  {
   "cell_type": "code",
   "execution_count": 52,
   "metadata": {},
   "outputs": [
    {
     "name": "stdout",
     "output_type": "stream",
     "text": [
      "Collecting TextBlob\n",
      "  Downloading textblob-0.14.0-py2.py3-none-any.whl (631kB)\n",
      "\u001b[K    100% |████████████████████████████████| 634kB 10.7MB/s ta 0:00:01\n",
      "\u001b[?25hRequirement already satisfied: nltk>=3.1 in /srv/app/venv/lib/python3.6/site-packages (from TextBlob)\n",
      "Requirement already satisfied: six in /srv/app/venv/lib/python3.6/site-packages (from nltk>=3.1->TextBlob)\n",
      "Installing collected packages: TextBlob\n",
      "Successfully installed TextBlob-0.14.0\n"
     ]
    }
   ],
   "source": [
    "!pip install --no-cache-dir TextBlob\n",
    "from textblob import TextBlob"
   ]
  },
  {
   "cell_type": "code",
   "execution_count": 53,
   "metadata": {},
   "outputs": [],
   "source": [
    "my_blob = '''this movie sucked. i hate it when stupid people get the starring role in films like this. This film was awesome. \n",
    "The cinematography was impeccable.'''"
   ]
  },
  {
   "cell_type": "code",
   "execution_count": 54,
   "metadata": {},
   "outputs": [],
   "source": [
    "blob_object = TextBlob(my_blob)"
   ]
  },
  {
   "cell_type": "code",
   "execution_count": 55,
   "metadata": {},
   "outputs": [
    {
     "data": {
      "text/plain": [
       "[Sentence(\"this movie sucked.\"),\n",
       " Sentence(\"i hate it when stupid people get the starring role in films like this.\"),\n",
       " Sentence(\"This film was awesome.\"),\n",
       " Sentence(\"The cinematography was impeccable.\")]"
      ]
     },
     "execution_count": 55,
     "metadata": {},
     "output_type": "execute_result"
    }
   ],
   "source": [
    "[s for s in blob_object.sentences]"
   ]
  },
  {
   "cell_type": "code",
   "execution_count": 56,
   "metadata": {},
   "outputs": [
    {
     "name": "stdout",
     "output_type": "stream",
     "text": [
      "this movie sucked.\n",
      "0.0\n",
      "i hate it when stupid people get the starring role in films like this.\n",
      "-0.8\n",
      "This film was awesome.\n",
      "1.0\n",
      "The cinematography was impeccable.\n",
      "0.75\n"
     ]
    }
   ],
   "source": [
    "for s in blob_object.sentences:\n",
    "    print(s)\n",
    "    print(s.sentiment.polarity)"
   ]
  },
  {
   "cell_type": "code",
   "execution_count": 57,
   "metadata": {},
   "outputs": [],
   "source": [
    "sent_dict = {'sucked': -1,\n",
    "            'awesome': 1,\n",
    "            'impeccable': 1,\n",
    "            'stupid': -1}\n",
    "sent = 0\n",
    "for w in my_blob.split():\n",
    "    try:\n",
    "        sent += sent_dict[w]\n",
    "    except:\n",
    "        pass"
   ]
  },
  {
   "cell_type": "code",
   "execution_count": 58,
   "metadata": {},
   "outputs": [
    {
     "data": {
      "text/plain": [
       "-1"
      ]
     },
     "execution_count": 58,
     "metadata": {},
     "output_type": "execute_result"
    }
   ],
   "source": [
    "sent"
   ]
  }
 ],
 "metadata": {
  "anaconda-cloud": {},
  "kernelspec": {
   "display_name": "Python 3",
   "language": "python",
   "name": "python3"
  },
  "language_info": {
   "codemirror_mode": {
    "name": "ipython",
    "version": 3
   },
   "file_extension": ".py",
   "mimetype": "text/x-python",
   "name": "python",
   "nbconvert_exporter": "python",
   "pygments_lexer": "ipython3",
   "version": "3.6.1"
  }
 },
 "nbformat": 4,
 "nbformat_minor": 1
}
